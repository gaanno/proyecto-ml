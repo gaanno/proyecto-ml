{
 "cells": [
  {
   "cell_type": "code",
   "execution_count": 4,
   "metadata": {},
   "outputs": [],
   "source": [
    "from model_data import Model\n",
    "\n",
    "#Modelos\n",
    "from sklearn.ensemble import RandomForestClassifier\n",
    "from sklearn.tree import DecisionTreeClassifier\n",
    "\n",
    "from sklearn.svm import SVC\n",
    "\n",
    "import tensorflow as tf\n",
    "from tensorflow.keras.models import Sequential\n",
    "from tensorflow.keras.layers import Dense, Dropout, InputLayer\n",
    "from tensorflow.keras.optimizers import  Adam"
   ]
  },
  {
   "cell_type": "code",
   "execution_count": 5,
   "metadata": {},
   "outputs": [],
   "source": [
    "model = Model()"
   ]
  },
  {
   "cell_type": "code",
   "execution_count": 6,
   "metadata": {},
   "outputs": [
    {
     "data": {
      "text/plain": [
       "0.8008333333333333"
      ]
     },
     "execution_count": 6,
     "metadata": {},
     "output_type": "execute_result"
    }
   ],
   "source": [
    "rf_model = RandomForestClassifier(n_estimators=80, random_state=model.RANDOM_STATE,n_jobs=12)\n",
    "rf_model.fit(model.X_train, model.y_train)\n",
    "rf_model.score(model.X_test, model.y_test)"
   ]
  },
  {
   "cell_type": "code",
   "execution_count": 7,
   "metadata": {},
   "outputs": [],
   "source": [
    "model.save_model(rf_model, 'rf_model')"
   ]
  },
  {
   "cell_type": "code",
   "execution_count": 20,
   "metadata": {},
   "outputs": [
    {
     "data": {
      "text/plain": [
       "0.7572222222222222"
      ]
     },
     "execution_count": 20,
     "metadata": {},
     "output_type": "execute_result"
    }
   ],
   "source": [
    "dtc_model = DecisionTreeClassifier(random_state=42)\n",
    "dtc_model.fit(model.X_train, model.y_train)\n",
    "dtc_model.score(model.X_test, model.y_test)"
   ]
  },
  {
   "cell_type": "code",
   "execution_count": 21,
   "metadata": {},
   "outputs": [],
   "source": [
    "model.save_model(dtc_model, 'dtc_model')"
   ]
  },
  {
   "cell_type": "code",
   "execution_count": 22,
   "metadata": {},
   "outputs": [
    {
     "data": {
      "text/plain": [
       "0.6566666666666666"
      ]
     },
     "execution_count": 22,
     "metadata": {},
     "output_type": "execute_result"
    }
   ],
   "source": [
    "#modelo svm\n",
    "svm_model = SVC(kernel='rbf', random_state=42)\n",
    "svm_model.fit(model.X_train, model.y_train)\n",
    "svm_model.score(model.X_test, model.y_test)"
   ]
  },
  {
   "cell_type": "code",
   "execution_count": 23,
   "metadata": {},
   "outputs": [],
   "source": [
    "model.save_model(svm_model, 'svm_model')"
   ]
  },
  {
   "cell_type": "code",
   "execution_count": 24,
   "metadata": {},
   "outputs": [
    {
     "data": {
      "text/plain": [
       "0.5986111111111111"
      ]
     },
     "execution_count": 24,
     "metadata": {},
     "output_type": "execute_result"
    }
   ],
   "source": [
    "#svm kernel lineal\n",
    "svm_model_lineal = SVC(kernel='linear', random_state=42)\n",
    "svm_model_lineal.fit(model.X_train, model.y_train)\n",
    "svm_model_lineal.score(model.X_test, model.y_test)"
   ]
  },
  {
   "cell_type": "code",
   "execution_count": 25,
   "metadata": {},
   "outputs": [],
   "source": [
    "model.save_model(svm_model_lineal, 'svm_model_lineal')"
   ]
  },
  {
   "cell_type": "code",
   "execution_count": 26,
   "metadata": {},
   "outputs": [
    {
     "data": {
      "text/plain": [
       "0.6461111111111111"
      ]
     },
     "execution_count": 26,
     "metadata": {},
     "output_type": "execute_result"
    }
   ],
   "source": [
    "#svm kernel polinomial\n",
    "svm_model_polinomial = SVC(kernel='poly', random_state=42)\n",
    "svm_model_polinomial.fit(model.X_train, model.y_train)\n",
    "svm_model_polinomial.score(model.X_test, model.y_test)"
   ]
  },
  {
   "cell_type": "code",
   "execution_count": 27,
   "metadata": {},
   "outputs": [],
   "source": [
    "model.save_model(svm_model_polinomial, 'svm_model_polinomial')"
   ]
  },
  {
   "cell_type": "code",
   "execution_count": null,
   "metadata": {},
   "outputs": [],
   "source": [
    "model_block = Sequential()\n",
    "model_block.add(InputLayer(input_shape=(model.X_train_t.shape[1],)))\n",
    "model_block.add(Dense(256, activation='relu'))\n",
    "model_block.add(Dropout(0.5))\n",
    "model_block.add(Dense(64, activation='relu'))\n",
    "model_block.add(Dropout(0.3))\n",
    "model_block.add(Dense(16, activation='relu'))\n",
    "model_block.add(Dropout(0.2))\n",
    "model_block.add(Dense(model.y_train_t.shape[1], activation='softmax'))\n",
    "model_block.compile(optimizer=Adam(learning_rate=model.LEARNING_RATE), loss='categorical_crossentropy', metrics=['accuracy'])\n",
    "model_block.summary()\n",
    "model_fit = model_block.fit(model.X_train_t, model.y_train_t, epochs=model.NUM_EPOCH, validation_data=(model.X_test_t, model.y_test_t), batch_size=model.BATCH_SIZE)"
   ]
  },
  {
   "cell_type": "code",
   "execution_count": 14,
   "metadata": {},
   "outputs": [
    {
     "name": "stdout",
     "output_type": "stream",
     "text": [
      "INFO:tensorflow:Assets written to: models/model_block/assets\n",
      "INFO:tensorflow:Assets written to: ram://a2122cdf-2cb0-4976-a06c-901c0982e65b/assets\n"
     ]
    }
   ],
   "source": [
    "#guarda el modelo\n",
    "model.save_model_nn(model_block, 'model_block')\n",
    "#guarda el historial de entrenamiento\n",
    "model.save_model(model_fit, 'model_block_history')\n"
   ]
  }
 ],
 "metadata": {
  "kernelspec": {
   "display_name": ".venv",
   "language": "python",
   "name": "python3"
  },
  "language_info": {
   "codemirror_mode": {
    "name": "ipython",
    "version": 3
   },
   "file_extension": ".py",
   "mimetype": "text/x-python",
   "name": "python",
   "nbconvert_exporter": "python",
   "pygments_lexer": "ipython3",
   "version": "3.10.0"
  }
 },
 "nbformat": 4,
 "nbformat_minor": 2
}
