{
 "cells": [
  {
   "cell_type": "code",
   "execution_count": 1,
   "metadata": {},
   "outputs": [
    {
     "name": "stderr",
     "output_type": "stream",
     "text": [
      "2023-12-28 19:44:21.881141: I tensorflow/core/platform/cpu_feature_guard.cc:193] This TensorFlow binary is optimized with oneAPI Deep Neural Network Library (oneDNN) to use the following CPU instructions in performance-critical operations:  AVX2 AVX512F AVX512_VNNI AVX512_BF16 FMA\n",
      "To enable them in other operations, rebuild TensorFlow with the appropriate compiler flags.\n",
      "2023-12-28 19:44:21.938617: I tensorflow/core/util/util.cc:169] oneDNN custom operations are on. You may see slightly different numerical results due to floating-point round-off errors from different computation orders. To turn them off, set the environment variable `TF_ENABLE_ONEDNN_OPTS=0`.\n",
      "2023-12-28 19:44:21.955075: E tensorflow/stream_executor/cuda/cuda_blas.cc:2981] Unable to register cuBLAS factory: Attempting to register factory for plugin cuBLAS when one has already been registered\n",
      "2023-12-28 19:44:22.387255: W tensorflow/stream_executor/platform/default/dso_loader.cc:64] Could not load dynamic library 'libnvinfer.so.7'; dlerror: libnvinfer.so.7: cannot open shared object file: No such file or directory; LD_LIBRARY_PATH: /usr/local/cuda-11.2/lib64:\n",
      "2023-12-28 19:44:22.387385: W tensorflow/stream_executor/platform/default/dso_loader.cc:64] Could not load dynamic library 'libnvinfer_plugin.so.7'; dlerror: libnvinfer_plugin.so.7: cannot open shared object file: No such file or directory; LD_LIBRARY_PATH: /usr/local/cuda-11.2/lib64:\n",
      "2023-12-28 19:44:22.387390: W tensorflow/compiler/tf2tensorrt/utils/py_utils.cc:38] TF-TRT Warning: Cannot dlopen some TensorRT libraries. If you would like to use Nvidia GPU with TensorRT, please make sure the missing libraries mentioned above are installed properly.\n"
     ]
    }
   ],
   "source": [
    "from model_data import Model\n",
    "\n",
    "#Modelos\n",
    "from sklearn.ensemble import RandomForestClassifier\n",
    "from sklearn.tree import DecisionTreeClassifier\n",
    "\n",
    "from sklearn.svm import SVC\n",
    "\n",
    "import tensorflow as tf\n",
    "from tensorflow.keras.models import Sequential\n",
    "from tensorflow.keras.layers import Dense, Dropout, InputLayer, LSTM\n",
    "from tensorflow.keras.optimizers import  Adam, SGD\n",
    "from tensorflow.keras.utils import to_categorical"
   ]
  },
  {
   "cell_type": "code",
   "execution_count": 2,
   "metadata": {},
   "outputs": [],
   "source": [
    "model = Model()"
   ]
  },
  {
   "cell_type": "code",
   "execution_count": 3,
   "metadata": {},
   "outputs": [
    {
     "data": {
      "text/plain": [
       "0.8"
      ]
     },
     "execution_count": 3,
     "metadata": {},
     "output_type": "execute_result"
    }
   ],
   "source": [
    "rf_model = RandomForestClassifier(n_estimators=512, random_state=model.RANDOM_STATE,n_jobs=12)\n",
    "rf_model.fit(model.X_train, model.y_train)\n",
    "rf_model.score(model.X_test, model.y_test)"
   ]
  },
  {
   "cell_type": "code",
   "execution_count": 4,
   "metadata": {},
   "outputs": [],
   "source": [
    "model.save_model(rf_model, 'rf_model')"
   ]
  },
  {
   "cell_type": "code",
   "execution_count": 5,
   "metadata": {},
   "outputs": [
    {
     "data": {
      "text/plain": [
       "0.7572222222222222"
      ]
     },
     "execution_count": 5,
     "metadata": {},
     "output_type": "execute_result"
    }
   ],
   "source": [
    "dtc_model = DecisionTreeClassifier(random_state=42)\n",
    "dtc_model.fit(model.X_train, model.y_train)\n",
    "dtc_model.score(model.X_test, model.y_test)"
   ]
  },
  {
   "cell_type": "code",
   "execution_count": 6,
   "metadata": {},
   "outputs": [],
   "source": [
    "model.save_model(dtc_model, 'dtc_model')"
   ]
  },
  {
   "cell_type": "code",
   "execution_count": 7,
   "metadata": {},
   "outputs": [
    {
     "data": {
      "text/plain": [
       "0.6566666666666666"
      ]
     },
     "execution_count": 7,
     "metadata": {},
     "output_type": "execute_result"
    }
   ],
   "source": [
    "#modelo svm\n",
    "svm_model = SVC(kernel='rbf', random_state=42)\n",
    "svm_model.fit(model.X_train, model.y_train)\n",
    "svm_model.score(model.X_test, model.y_test)"
   ]
  },
  {
   "cell_type": "code",
   "execution_count": 8,
   "metadata": {},
   "outputs": [],
   "source": [
    "model.save_model(svm_model, 'svm_model')"
   ]
  },
  {
   "cell_type": "code",
   "execution_count": 9,
   "metadata": {},
   "outputs": [
    {
     "data": {
      "text/plain": [
       "0.5986111111111111"
      ]
     },
     "execution_count": 9,
     "metadata": {},
     "output_type": "execute_result"
    }
   ],
   "source": [
    "#svm kernel lineal\n",
    "svm_model_lineal = SVC(kernel='linear', random_state=42)\n",
    "svm_model_lineal.fit(model.X_train, model.y_train)\n",
    "svm_model_lineal.score(model.X_test, model.y_test)"
   ]
  },
  {
   "cell_type": "code",
   "execution_count": 10,
   "metadata": {},
   "outputs": [],
   "source": [
    "model.save_model(svm_model_lineal, 'svm_model_lineal')"
   ]
  },
  {
   "cell_type": "code",
   "execution_count": 11,
   "metadata": {},
   "outputs": [
    {
     "data": {
      "text/plain": [
       "0.6461111111111111"
      ]
     },
     "execution_count": 11,
     "metadata": {},
     "output_type": "execute_result"
    }
   ],
   "source": [
    "#svm kernel polinomial\n",
    "svm_model_polinomial = SVC(kernel='poly', random_state=42)\n",
    "svm_model_polinomial.fit(model.X_train, model.y_train)\n",
    "svm_model_polinomial.score(model.X_test, model.y_test)"
   ]
  },
  {
   "cell_type": "code",
   "execution_count": 12,
   "metadata": {},
   "outputs": [],
   "source": [
    "model.save_model(svm_model_polinomial, 'svm_model_polinomial')"
   ]
  },
  {
   "cell_type": "code",
   "execution_count": 13,
   "metadata": {},
   "outputs": [
    {
     "name": "stdout",
     "output_type": "stream",
     "text": [
      "Model: \"sequential\"\n",
      "_________________________________________________________________\n",
      " Layer (type)                Output Shape              Param #   \n",
      "=================================================================\n",
      " dense (Dense)               (None, 512)               13824     \n",
      "                                                                 \n",
      " dropout (Dropout)           (None, 512)               0         \n",
      "                                                                 \n",
      " dense_1 (Dense)             (None, 128)               65664     \n",
      "                                                                 \n",
      " dropout_1 (Dropout)         (None, 128)               0         \n",
      "                                                                 \n",
      " dense_2 (Dense)             (None, 32)                4128      \n",
      "                                                                 \n",
      " dropout_2 (Dropout)         (None, 32)                0         \n",
      "                                                                 \n",
      " dense_3 (Dense)             (None, 11)                363       \n",
      "                                                                 \n",
      "=================================================================\n",
      "Total params: 83,979\n",
      "Trainable params: 83,979\n",
      "Non-trainable params: 0\n",
      "_________________________________________________________________\n",
      "Epoch 1/10\n"
     ]
    },
    {
     "name": "stderr",
     "output_type": "stream",
     "text": [
      "2023-12-28 19:44:35.947981: I tensorflow/stream_executor/cuda/cuda_gpu_executor.cc:980] successful NUMA node read from SysFS had negative value (-1), but there must be at least one NUMA node, so returning NUMA node zero\n",
      "2023-12-28 19:44:35.951993: W tensorflow/stream_executor/platform/default/dso_loader.cc:64] Could not load dynamic library 'libcudnn.so.8'; dlerror: /usr/local/cuda-11.2/lib64/libcudnn.so.8: file too short; LD_LIBRARY_PATH: /usr/local/cuda-11.2/lib64:\n",
      "2023-12-28 19:44:35.952004: W tensorflow/core/common_runtime/gpu/gpu_device.cc:1934] Cannot dlopen some GPU libraries. Please make sure the missing libraries mentioned above are installed properly if you would like to use GPU. Follow the guide at https://www.tensorflow.org/install/gpu for how to download and setup the required libraries for your platform.\n",
      "Skipping registering GPU devices...\n",
      "2023-12-28 19:44:35.952356: I tensorflow/core/platform/cpu_feature_guard.cc:193] This TensorFlow binary is optimized with oneAPI Deep Neural Network Library (oneDNN) to use the following CPU instructions in performance-critical operations:  AVX2 AVX512F AVX512_VNNI AVX512_BF16 FMA\n",
      "To enable them in other operations, rebuild TensorFlow with the appropriate compiler flags.\n"
     ]
    },
    {
     "name": "stdout",
     "output_type": "stream",
     "text": [
      "450/450 [==============================] - 1s 992us/step - loss: 1.7284 - accuracy: 0.3697 - val_loss: 1.2793 - val_accuracy: 0.5311\n",
      "Epoch 2/10\n",
      "450/450 [==============================] - 0s 835us/step - loss: 1.4869 - accuracy: 0.4441 - val_loss: 1.2584 - val_accuracy: 0.5394\n",
      "Epoch 3/10\n",
      "450/450 [==============================] - 0s 840us/step - loss: 1.4566 - accuracy: 0.4635 - val_loss: 1.2425 - val_accuracy: 0.5325\n",
      "Epoch 4/10\n",
      "450/450 [==============================] - 0s 829us/step - loss: 1.4311 - accuracy: 0.4653 - val_loss: 1.2397 - val_accuracy: 0.5381\n",
      "Epoch 5/10\n",
      "450/450 [==============================] - 0s 812us/step - loss: 1.4287 - accuracy: 0.4683 - val_loss: 1.2140 - val_accuracy: 0.5428\n",
      "Epoch 6/10\n",
      "450/450 [==============================] - 0s 798us/step - loss: 1.4201 - accuracy: 0.4747 - val_loss: 1.2226 - val_accuracy: 0.5214\n",
      "Epoch 7/10\n",
      "450/450 [==============================] - 0s 791us/step - loss: 1.4091 - accuracy: 0.4770 - val_loss: 1.2096 - val_accuracy: 0.5322\n",
      "Epoch 8/10\n",
      "450/450 [==============================] - 0s 791us/step - loss: 1.3985 - accuracy: 0.4819 - val_loss: 1.1942 - val_accuracy: 0.5519\n",
      "Epoch 9/10\n",
      "450/450 [==============================] - 0s 794us/step - loss: 1.3994 - accuracy: 0.4881 - val_loss: 1.2044 - val_accuracy: 0.5356\n",
      "Epoch 10/10\n",
      "450/450 [==============================] - 0s 787us/step - loss: 1.4243 - accuracy: 0.4780 - val_loss: 1.2349 - val_accuracy: 0.5372\n"
     ]
    }
   ],
   "source": [
    "model_block = Sequential()\n",
    "model_block.add(InputLayer(input_shape=(model.X_train_t.shape[1],)))\n",
    "model_block.add(Dense(512, activation='relu'))\n",
    "model_block.add(Dropout(0.5))\n",
    "model_block.add(Dense(128, activation='relu'))\n",
    "model_block.add(Dropout(0.5))\n",
    "model_block.add(Dense(32, activation='relu'))\n",
    "model_block.add(Dropout(0.5))\n",
    "\n",
    "model_block.add(Dense(model.y_train_t.shape[1], activation='softmax'))\n",
    "model_block.compile(optimizer=Adam(learning_rate=model.LEARNING_RATE), loss='categorical_crossentropy', metrics=['accuracy'])\n",
    "model_block.summary()\n",
    "model_fit = model_block.fit(model.X_train_t, model.y_train_t, epochs=model.NUM_EPOCH, validation_data=(model.X_test_t, model.y_test_t), batch_size=model.BATCH_SIZE)"
   ]
  },
  {
   "cell_type": "code",
   "execution_count": 14,
   "metadata": {},
   "outputs": [
    {
     "name": "stdout",
     "output_type": "stream",
     "text": [
      "INFO:tensorflow:Assets written to: models/model_block/assets\n",
      "INFO:tensorflow:Assets written to: ram://d980b52e-e636-4d6f-8716-fad047baa3b6/assets\n"
     ]
    }
   ],
   "source": [
    "#guarda el modelo\n",
    "model.save_model_nn(model_block, 'model_block')\n",
    "#guarda el historial de entrenamiento\n",
    "model.save_model(model_fit, 'model_block_history')\n"
   ]
  }
 ],
 "metadata": {
  "kernelspec": {
   "display_name": ".venv",
   "language": "python",
   "name": "python3"
  },
  "language_info": {
   "codemirror_mode": {
    "name": "ipython",
    "version": 3
   },
   "file_extension": ".py",
   "mimetype": "text/x-python",
   "name": "python",
   "nbconvert_exporter": "python",
   "pygments_lexer": "ipython3",
   "version": "3.10.0"
  }
 },
 "nbformat": 4,
 "nbformat_minor": 2
}
