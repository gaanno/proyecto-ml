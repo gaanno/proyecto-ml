{
 "cells": [
  {
   "cell_type": "code",
   "execution_count": 1,
   "metadata": {},
   "outputs": [
    {
     "name": "stderr",
     "output_type": "stream",
     "text": [
      "2023-12-29 16:12:12.289741: I tensorflow/core/platform/cpu_feature_guard.cc:193] This TensorFlow binary is optimized with oneAPI Deep Neural Network Library (oneDNN) to use the following CPU instructions in performance-critical operations:  AVX2 AVX512F AVX512_VNNI AVX512_BF16 FMA\n",
      "To enable them in other operations, rebuild TensorFlow with the appropriate compiler flags.\n",
      "2023-12-29 16:12:12.353867: I tensorflow/core/util/util.cc:169] oneDNN custom operations are on. You may see slightly different numerical results due to floating-point round-off errors from different computation orders. To turn them off, set the environment variable `TF_ENABLE_ONEDNN_OPTS=0`.\n",
      "2023-12-29 16:12:12.371749: E tensorflow/stream_executor/cuda/cuda_blas.cc:2981] Unable to register cuBLAS factory: Attempting to register factory for plugin cuBLAS when one has already been registered\n",
      "2023-12-29 16:12:12.826407: W tensorflow/stream_executor/platform/default/dso_loader.cc:64] Could not load dynamic library 'libnvinfer.so.7'; dlerror: libnvinfer.so.7: cannot open shared object file: No such file or directory; LD_LIBRARY_PATH: /usr/local/cuda-11.2/lib64:\n",
      "2023-12-29 16:12:12.826523: W tensorflow/stream_executor/platform/default/dso_loader.cc:64] Could not load dynamic library 'libnvinfer_plugin.so.7'; dlerror: libnvinfer_plugin.so.7: cannot open shared object file: No such file or directory; LD_LIBRARY_PATH: /usr/local/cuda-11.2/lib64:\n",
      "2023-12-29 16:12:12.826528: W tensorflow/compiler/tf2tensorrt/utils/py_utils.cc:38] TF-TRT Warning: Cannot dlopen some TensorRT libraries. If you would like to use Nvidia GPU with TensorRT, please make sure the missing libraries mentioned above are installed properly.\n"
     ]
    }
   ],
   "source": [
    "import pandas as pd\n",
    "from model_data import Model\n",
    "import matplotlib.pyplot as plt\n",
    "import seaborn as sns"
   ]
  },
  {
   "cell_type": "code",
   "execution_count": 2,
   "metadata": {},
   "outputs": [],
   "source": [
    "model = Model()"
   ]
  },
  {
   "cell_type": "code",
   "execution_count": 3,
   "metadata": {},
   "outputs": [],
   "source": [
    "df = pd.read_csv('nuevos_generos_sin_transformar.csv')"
   ]
  },
  {
   "cell_type": "code",
   "execution_count": 10,
   "metadata": {},
   "outputs": [],
   "source": [
    "def danceability(df):\n",
    "    sns.set()\n",
    "    for clase in df['Class'].unique():\n",
    "        plt.plot(df[df['Class'] == clase]['danceability'], label=model.genres[clase])\n",
    "    plt.ylabel('Bailabilidad')\n",
    "    plt.xlabel('Clases')\n",
    "    plt.legend(bbox_to_anchor=(1.05, 1), loc='upper left', borderaxespad=0)#mueve la legenda a la derecha del grafico\n",
    "    plt.title('Gráfico de danceability por clase')\n",
    "    plt.xticks([]) #oculta los valores del eje x\n",
    "    plt.savefig('graficos/bailabilidad-genero.png', bbox_inches='tight')\n",
    "\n",
    "#danceability(df)"
   ]
  },
  {
   "cell_type": "code",
   "execution_count": 5,
   "metadata": {},
   "outputs": [],
   "source": [
    "#grafico de barras popularidad vs clase\n",
    "def popularidad(df):\n",
    "    sns.set()\n",
    "    for clase in df['Class'].unique():\n",
    "        plt.bar(clase, df[df['Class'] == clase]['Popularity'].mean(), label=model.genres[clase])\n",
    "\n",
    "    plt.ylabel('Popularidad')\n",
    "    plt.xlabel('Clases')\n",
    "    plt.legend(bbox_to_anchor=(1.05, 1), loc='upper left', borderaxespad=0)#mueve la legenda a la derecha del grafico\n",
    "    plt.title('Media de popularidad por clase')\n",
    "    plt.xticks([]) #oculta los valores del eje x\n",
    "    plt.savefig(f'graficos/popularidad-genero.png', bbox_inches='tight')\n",
    "#popularidad(df)"
   ]
  },
  {
   "cell_type": "code",
   "execution_count": 6,
   "metadata": {},
   "outputs": [],
   "source": [
    "def energy(df):\n",
    "    sns.set()\n",
    "    for clase in df['Class'].unique():\n",
    "        plt.bar(clase, df[df['Class'] == clase]['energy'].mean(), label=model.genres[clase])\n",
    "    plt.ylabel('Energía')\n",
    "    plt.xlabel('Clases')\n",
    "    plt.legend(bbox_to_anchor=(1.05, 1), loc='upper left', borderaxespad=0)#mueve la legenda a la derecha del grafico\n",
    "    plt.title('Media de energia por clase')\n",
    "    plt.xticks([]) #oculta los valores del eje x\n",
    "    plt.savefig(f'graficos/energy-genero.png', bbox_inches='tight')\n",
    "\n",
    "# energy(df)"
   ]
  },
  {
   "cell_type": "code",
   "execution_count": 7,
   "metadata": {},
   "outputs": [
    {
     "data": {
      "text/plain": [
       "<Figure size 640x480 with 0 Axes>"
      ]
     },
     "metadata": {},
     "output_type": "display_data"
    }
   ],
   "source": [
    "for columna in df.columns.drop(['Class','duration_in min/ms']):\n",
    "    sns.set()\n",
    "    for clase in df['Class'].unique():\n",
    "        plt.bar(clase, df[df['Class'] == clase][columna].mean(), label=model.genres[clase])\n",
    "    plt.ylabel(columna)\n",
    "    plt.xlabel('Clases')\n",
    "    plt.legend(bbox_to_anchor=(1.05, 1), loc='upper left', borderaxespad=0)\n",
    "    plt.title(f'Media de {columna} por clase')\n",
    "    plt.xticks([])\n",
    "    plt.savefig(f'graficos/{columna.replace(\"/\",\"-\",1)}-genero.png', bbox_inches='tight')\n",
    "    plt.clf()\n",
    "       \n",
    "        "
   ]
  }
 ],
 "metadata": {
  "kernelspec": {
   "display_name": ".venv",
   "language": "python",
   "name": "python3"
  },
  "language_info": {
   "codemirror_mode": {
    "name": "ipython",
    "version": 3
   },
   "file_extension": ".py",
   "mimetype": "text/x-python",
   "name": "python",
   "nbconvert_exporter": "python",
   "pygments_lexer": "ipython3",
   "version": "3.10.0"
  }
 },
 "nbformat": 4,
 "nbformat_minor": 2
}
